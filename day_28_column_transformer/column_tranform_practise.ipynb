{
 "cells": [
  {
   "cell_type": "code",
   "execution_count": 1,
   "id": "944254c0",
   "metadata": {},
   "outputs": [
    {
     "data": {
      "text/html": [
       "<div>\n",
       "<style scoped>\n",
       "    .dataframe tbody tr th:only-of-type {\n",
       "        vertical-align: middle;\n",
       "    }\n",
       "\n",
       "    .dataframe tbody tr th {\n",
       "        vertical-align: top;\n",
       "    }\n",
       "\n",
       "    .dataframe thead th {\n",
       "        text-align: right;\n",
       "    }\n",
       "</style>\n",
       "<table border=\"1\" class=\"dataframe\">\n",
       "  <thead>\n",
       "    <tr style=\"text-align: right;\">\n",
       "      <th></th>\n",
       "      <th>age</th>\n",
       "      <th>gender</th>\n",
       "      <th>fever</th>\n",
       "      <th>cough</th>\n",
       "      <th>city</th>\n",
       "      <th>has_covid</th>\n",
       "    </tr>\n",
       "  </thead>\n",
       "  <tbody>\n",
       "    <tr>\n",
       "      <th>0</th>\n",
       "      <td>60</td>\n",
       "      <td>Male</td>\n",
       "      <td>103.0</td>\n",
       "      <td>Mild</td>\n",
       "      <td>Kolkata</td>\n",
       "      <td>No</td>\n",
       "    </tr>\n",
       "    <tr>\n",
       "      <th>1</th>\n",
       "      <td>27</td>\n",
       "      <td>Male</td>\n",
       "      <td>100.0</td>\n",
       "      <td>Mild</td>\n",
       "      <td>Delhi</td>\n",
       "      <td>Yes</td>\n",
       "    </tr>\n",
       "    <tr>\n",
       "      <th>2</th>\n",
       "      <td>42</td>\n",
       "      <td>Male</td>\n",
       "      <td>101.0</td>\n",
       "      <td>Mild</td>\n",
       "      <td>Delhi</td>\n",
       "      <td>No</td>\n",
       "    </tr>\n",
       "    <tr>\n",
       "      <th>3</th>\n",
       "      <td>31</td>\n",
       "      <td>Female</td>\n",
       "      <td>98.0</td>\n",
       "      <td>Mild</td>\n",
       "      <td>Kolkata</td>\n",
       "      <td>No</td>\n",
       "    </tr>\n",
       "    <tr>\n",
       "      <th>4</th>\n",
       "      <td>65</td>\n",
       "      <td>Female</td>\n",
       "      <td>101.0</td>\n",
       "      <td>Mild</td>\n",
       "      <td>Mumbai</td>\n",
       "      <td>No</td>\n",
       "    </tr>\n",
       "  </tbody>\n",
       "</table>\n",
       "</div>"
      ],
      "text/plain": [
       "   age  gender  fever cough     city has_covid\n",
       "0   60    Male  103.0  Mild  Kolkata        No\n",
       "1   27    Male  100.0  Mild    Delhi       Yes\n",
       "2   42    Male  101.0  Mild    Delhi        No\n",
       "3   31  Female   98.0  Mild  Kolkata        No\n",
       "4   65  Female  101.0  Mild   Mumbai        No"
      ]
     },
     "execution_count": 1,
     "metadata": {},
     "output_type": "execute_result"
    }
   ],
   "source": [
    "import numpy as np\n",
    "import pandas as pd\n",
    "df = pd.read_csv('covid_toy.csv')\n",
    "df.head()"
   ]
  },
  {
   "cell_type": "code",
   "execution_count": 4,
   "id": "49ae04c5",
   "metadata": {},
   "outputs": [],
   "source": [
    "from sklearn.model_selection import train_test_split\n",
    "x_train,x_test,y_train,y_test = train_test_split(df.drop('has_covid',axis = 1),\n",
    "                                                df['has_covid'],test_size = 0.3,random_state = 2)"
   ]
  },
  {
   "cell_type": "code",
   "execution_count": 5,
   "id": "25224765",
   "metadata": {},
   "outputs": [
    {
     "data": {
      "text/plain": [
       "(70, 5)"
      ]
     },
     "execution_count": 5,
     "metadata": {},
     "output_type": "execute_result"
    }
   ],
   "source": [
    "x_train.shape"
   ]
  },
  {
   "cell_type": "code",
   "execution_count": 7,
   "id": "c100d8f4",
   "metadata": {},
   "outputs": [
    {
     "data": {
      "text/plain": [
       "age           0\n",
       "gender        0\n",
       "fever        10\n",
       "cough         0\n",
       "city          0\n",
       "has_covid     0\n",
       "dtype: int64"
      ]
     },
     "execution_count": 7,
     "metadata": {},
     "output_type": "execute_result"
    }
   ],
   "source": [
    "df.isnull().sum()"
   ]
  },
  {
   "cell_type": "code",
   "execution_count": 11,
   "id": "540a2c8d",
   "metadata": {},
   "outputs": [
    {
     "data": {
      "text/plain": [
       "(70, 1)"
      ]
     },
     "execution_count": 11,
     "metadata": {},
     "output_type": "execute_result"
    }
   ],
   "source": [
    "# fever is having some null value so first we will fill them using simple imputer\n",
    "from sklearn.impute import SimpleImputer\n",
    "si = SimpleImputer()\n",
    "X_train_fever = si.fit_transform(x_train[['fever']])\n",
    "X_train_fever.shape"
   ]
  },
  {
   "cell_type": "code",
   "execution_count": 14,
   "id": "478eab87",
   "metadata": {},
   "outputs": [
    {
     "data": {
      "text/plain": [
       "(30, 1)"
      ]
     },
     "execution_count": 14,
     "metadata": {},
     "output_type": "execute_result"
    }
   ],
   "source": [
    "X_test_fever = si.fit_transform(x_test[['fever']])\n",
    "X_test_fever.shape"
   ]
  },
  {
   "cell_type": "code",
   "execution_count": 18,
   "id": "75ca7027",
   "metadata": {},
   "outputs": [],
   "source": [
    "# now we will work on categorical values \n",
    "# so first we will work on ordinal data that is cough column\n",
    "from sklearn.preprocessing import OrdinalEncoder\n",
    "oe = OrdinalEncoder(categories = [['Mild','Strong']])\n",
    "X_train_Cough = oe.fit_transform(x_train[['cough']])\n",
    "X_test_Cough = oe.fit_transform(x_test[['cough']])"
   ]
  },
  {
   "cell_type": "code",
   "execution_count": 19,
   "id": "78a0527c",
   "metadata": {},
   "outputs": [
    {
     "data": {
      "text/plain": [
       "(70, 1)"
      ]
     },
     "execution_count": 19,
     "metadata": {},
     "output_type": "execute_result"
    }
   ],
   "source": [
    "X_train_Cough.shape"
   ]
  },
  {
   "cell_type": "code",
   "execution_count": 20,
   "id": "4cc11ee1",
   "metadata": {},
   "outputs": [],
   "source": [
    "# now let's work on other type of categorical data called as nominal data using one_hot_encoding\n",
    "from sklearn.preprocessing import OneHotEncoder\n",
    "ohe = OneHotEncoder(drop = 'first',sparse_output = False)\n",
    "X_train_Gender_city = ohe.fit_transform(x_train[['gender','city']])\n",
    "X_test_Gender_city = ohe.fit_transform(x_test[['gender','city']])"
   ]
  },
  {
   "cell_type": "code",
   "execution_count": 21,
   "id": "1269fa63",
   "metadata": {},
   "outputs": [
    {
     "data": {
      "text/plain": [
       "(70, 4)"
      ]
     },
     "execution_count": 21,
     "metadata": {},
     "output_type": "execute_result"
    }
   ],
   "source": [
    "X_train_Gender_city.shape"
   ]
  },
  {
   "cell_type": "code",
   "execution_count": 23,
   "id": "222627fb",
   "metadata": {},
   "outputs": [],
   "source": [
    "# we just completed the all feture selection and analysis part. so, now let's transorm the data \n",
    "# Extracting Age\n",
    "X_train_age = x_train.drop(columns=['gender','fever','cough','city']).values\n",
    "\n",
    "# also the test data\n",
    "X_test_age = x_test.drop(columns=['gender','fever','cough','city']).values"
   ]
  },
  {
   "cell_type": "code",
   "execution_count": 33,
   "id": "37579f81",
   "metadata": {},
   "outputs": [],
   "source": [
    "# concetination part\n",
    "X_transformed = np.concatenate((X_train_age,X_train_Gender_city,X_train_Cough,X_train_fever),axis = 1)"
   ]
  },
  {
   "cell_type": "code",
   "execution_count": 34,
   "id": "f260c1c7",
   "metadata": {},
   "outputs": [],
   "source": [
    "X_test_transformed = np.concatenate((X_test_age,X_test_Gender_city,X_test_Cough,X_test_fever),axis = 1)"
   ]
  },
  {
   "cell_type": "code",
   "execution_count": 35,
   "id": "02609b81",
   "metadata": {
    "collapsed": true
   },
   "outputs": [
    {
     "data": {
      "text/plain": [
       "array([[ 69.     ,   0.     ,   0.     ,   0.     ,   0.     ,   0.     ,\n",
       "        102.     ],\n",
       "       [ 27.     ,   1.     ,   1.     ,   0.     ,   0.     ,   0.     ,\n",
       "        100.     ],\n",
       "       [ 64.     ,   0.     ,   0.     ,   0.     ,   0.     ,   0.     ,\n",
       "         98.     ],\n",
       "       [ 66.     ,   1.     ,   0.     ,   0.     ,   0.     ,   1.     ,\n",
       "         99.     ],\n",
       "       [ 38.     ,   0.     ,   0.     ,   0.     ,   0.     ,   0.     ,\n",
       "        101.     ],\n",
       "       [ 11.     ,   1.     ,   0.     ,   0.     ,   0.     ,   0.     ,\n",
       "        100.     ],\n",
       "       [ 14.     ,   1.     ,   0.     ,   0.     ,   0.     ,   1.     ,\n",
       "        101.     ],\n",
       "       [ 46.     ,   1.     ,   0.     ,   0.     ,   0.     ,   1.     ,\n",
       "        103.     ],\n",
       "       [ 38.     ,   1.     ,   1.     ,   0.     ,   0.     ,   0.     ,\n",
       "        100.78125],\n",
       "       [ 75.     ,   0.     ,   1.     ,   0.     ,   0.     ,   0.     ,\n",
       "        100.78125],\n",
       "       [ 25.     ,   0.     ,   0.     ,   1.     ,   0.     ,   1.     ,\n",
       "         99.     ],\n",
       "       [ 83.     ,   1.     ,   1.     ,   0.     ,   0.     ,   0.     ,\n",
       "         98.     ],\n",
       "       [ 47.     ,   1.     ,   0.     ,   0.     ,   0.     ,   1.     ,\n",
       "        101.     ],\n",
       "       [ 60.     ,   0.     ,   0.     ,   0.     ,   1.     ,   0.     ,\n",
       "         99.     ],\n",
       "       [ 12.     ,   0.     ,   0.     ,   0.     ,   0.     ,   0.     ,\n",
       "        104.     ],\n",
       "       [ 34.     ,   0.     ,   1.     ,   0.     ,   0.     ,   1.     ,\n",
       "        101.     ],\n",
       "       [ 42.     ,   0.     ,   0.     ,   0.     ,   0.     ,   1.     ,\n",
       "        100.78125],\n",
       "       [ 19.     ,   0.     ,   0.     ,   1.     ,   0.     ,   0.     ,\n",
       "        100.     ],\n",
       "       [ 24.     ,   0.     ,   0.     ,   0.     ,   0.     ,   1.     ,\n",
       "        102.     ],\n",
       "       [ 81.     ,   0.     ,   0.     ,   0.     ,   1.     ,   0.     ,\n",
       "        101.     ],\n",
       "       [ 64.     ,   0.     ,   1.     ,   0.     ,   0.     ,   0.     ,\n",
       "        101.     ],\n",
       "       [ 51.     ,   0.     ,   0.     ,   1.     ,   0.     ,   1.     ,\n",
       "        101.     ],\n",
       "       [ 40.     ,   0.     ,   1.     ,   0.     ,   0.     ,   1.     ,\n",
       "         98.     ],\n",
       "       [  6.     ,   0.     ,   0.     ,   1.     ,   0.     ,   0.     ,\n",
       "        104.     ],\n",
       "       [ 49.     ,   0.     ,   0.     ,   0.     ,   0.     ,   1.     ,\n",
       "         99.     ],\n",
       "       [ 82.     ,   1.     ,   0.     ,   1.     ,   0.     ,   0.     ,\n",
       "        100.78125],\n",
       "       [ 42.     ,   1.     ,   0.     ,   0.     ,   1.     ,   0.     ,\n",
       "        104.     ],\n",
       "       [ 72.     ,   1.     ,   0.     ,   0.     ,   0.     ,   0.     ,\n",
       "         99.     ],\n",
       "       [ 20.     ,   0.     ,   0.     ,   0.     ,   0.     ,   0.     ,\n",
       "        101.     ],\n",
       "       [ 19.     ,   0.     ,   0.     ,   0.     ,   0.     ,   1.     ,\n",
       "        100.     ],\n",
       "       [ 75.     ,   0.     ,   1.     ,   0.     ,   0.     ,   1.     ,\n",
       "        104.     ],\n",
       "       [ 79.     ,   1.     ,   0.     ,   1.     ,   0.     ,   1.     ,\n",
       "        100.78125],\n",
       "       [ 59.     ,   0.     ,   1.     ,   0.     ,   0.     ,   1.     ,\n",
       "         99.     ],\n",
       "       [  5.     ,   0.     ,   0.     ,   0.     ,   1.     ,   1.     ,\n",
       "         98.     ],\n",
       "       [ 25.     ,   1.     ,   0.     ,   0.     ,   0.     ,   0.     ,\n",
       "        104.     ],\n",
       "       [ 14.     ,   0.     ,   0.     ,   0.     ,   1.     ,   0.     ,\n",
       "         99.     ],\n",
       "       [ 19.     ,   1.     ,   1.     ,   0.     ,   0.     ,   0.     ,\n",
       "        101.     ],\n",
       "       [ 47.     ,   0.     ,   0.     ,   0.     ,   0.     ,   1.     ,\n",
       "        100.     ],\n",
       "       [ 51.     ,   1.     ,   0.     ,   1.     ,   0.     ,   0.     ,\n",
       "        104.     ],\n",
       "       [  5.     ,   0.     ,   0.     ,   1.     ,   0.     ,   0.     ,\n",
       "        100.     ],\n",
       "       [ 68.     ,   0.     ,   1.     ,   0.     ,   0.     ,   1.     ,\n",
       "        101.     ],\n",
       "       [ 19.     ,   0.     ,   0.     ,   0.     ,   1.     ,   0.     ,\n",
       "        101.     ],\n",
       "       [ 54.     ,   0.     ,   0.     ,   1.     ,   0.     ,   1.     ,\n",
       "        104.     ],\n",
       "       [ 73.     ,   0.     ,   1.     ,   0.     ,   0.     ,   0.     ,\n",
       "        103.     ],\n",
       "       [ 65.     ,   1.     ,   1.     ,   0.     ,   0.     ,   0.     ,\n",
       "         99.     ],\n",
       "       [ 23.     ,   1.     ,   0.     ,   0.     ,   1.     ,   1.     ,\n",
       "         98.     ],\n",
       "       [ 26.     ,   0.     ,   0.     ,   1.     ,   0.     ,   0.     ,\n",
       "         98.     ],\n",
       "       [ 49.     ,   0.     ,   1.     ,   0.     ,   0.     ,   0.     ,\n",
       "        101.     ],\n",
       "       [ 11.     ,   0.     ,   0.     ,   1.     ,   0.     ,   1.     ,\n",
       "        100.     ],\n",
       "       [ 27.     ,   1.     ,   1.     ,   0.     ,   0.     ,   0.     ,\n",
       "        100.     ],\n",
       "       [ 65.     ,   0.     ,   0.     ,   0.     ,   1.     ,   0.     ,\n",
       "        101.     ],\n",
       "       [ 65.     ,   1.     ,   0.     ,   0.     ,   0.     ,   0.     ,\n",
       "         99.     ],\n",
       "       [ 50.     ,   0.     ,   0.     ,   1.     ,   0.     ,   0.     ,\n",
       "        103.     ],\n",
       "       [ 55.     ,   1.     ,   0.     ,   1.     ,   0.     ,   0.     ,\n",
       "        100.     ],\n",
       "       [ 12.     ,   1.     ,   0.     ,   0.     ,   0.     ,   1.     ,\n",
       "         98.     ],\n",
       "       [ 83.     ,   1.     ,   0.     ,   1.     ,   0.     ,   0.     ,\n",
       "        103.     ],\n",
       "       [ 10.     ,   1.     ,   0.     ,   0.     ,   0.     ,   0.     ,\n",
       "        100.     ],\n",
       "       [ 18.     ,   0.     ,   0.     ,   0.     ,   0.     ,   0.     ,\n",
       "        104.     ],\n",
       "       [ 16.     ,   0.     ,   0.     ,   0.     ,   0.     ,   0.     ,\n",
       "        103.     ],\n",
       "       [ 27.     ,   1.     ,   0.     ,   1.     ,   0.     ,   0.     ,\n",
       "        100.     ],\n",
       "       [ 44.     ,   1.     ,   0.     ,   0.     ,   1.     ,   0.     ,\n",
       "        104.     ],\n",
       "       [ 74.     ,   1.     ,   0.     ,   0.     ,   1.     ,   0.     ,\n",
       "        102.     ],\n",
       "       [ 20.     ,   0.     ,   0.     ,   0.     ,   1.     ,   1.     ,\n",
       "        100.78125],\n",
       "       [  5.     ,   1.     ,   0.     ,   1.     ,   0.     ,   0.     ,\n",
       "        102.     ],\n",
       "       [ 24.     ,   1.     ,   0.     ,   1.     ,   0.     ,   0.     ,\n",
       "         98.     ],\n",
       "       [ 22.     ,   0.     ,   0.     ,   0.     ,   0.     ,   0.     ,\n",
       "         99.     ],\n",
       "       [ 71.     ,   0.     ,   0.     ,   1.     ,   0.     ,   1.     ,\n",
       "         98.     ],\n",
       "       [ 83.     ,   0.     ,   0.     ,   1.     ,   0.     ,   0.     ,\n",
       "        101.     ],\n",
       "       [ 70.     ,   1.     ,   0.     ,   1.     ,   0.     ,   1.     ,\n",
       "        103.     ],\n",
       "       [ 49.     ,   0.     ,   1.     ,   0.     ,   0.     ,   0.     ,\n",
       "        102.     ]])"
      ]
     },
     "execution_count": 35,
     "metadata": {},
     "output_type": "execute_result"
    }
   ],
   "source": [
    "X_transformed"
   ]
  },
  {
   "cell_type": "code",
   "execution_count": null,
   "id": "2c21ab40",
   "metadata": {},
   "outputs": [],
   "source": []
  },
  {
   "cell_type": "code",
   "execution_count": null,
   "id": "6ce735d1",
   "metadata": {},
   "outputs": [],
   "source": []
  },
  {
   "cell_type": "markdown",
   "id": "6809b483",
   "metadata": {},
   "source": [
    "# using Sklearn"
   ]
  },
  {
   "cell_type": "code",
   "execution_count": 36,
   "id": "3678550a",
   "metadata": {},
   "outputs": [],
   "source": [
    "from sklearn.compose import ColumnTransformer"
   ]
  },
  {
   "cell_type": "code",
   "execution_count": 41,
   "id": "304880ff",
   "metadata": {},
   "outputs": [],
   "source": [
    "transformer = ColumnTransformer(transformers = [\n",
    "    ('tf1',SimpleImputer(),['fever']),\n",
    "    ('tf2',OrdinalEncoder(categories = [['Mild',\"Strong\"]]),['cough']),\n",
    "    ('tf3',OneHotEncoder(sparse_output = False,drop = 'first'),['gender','city'])\n",
    "],remainder = 'passthrough')"
   ]
  },
  {
   "cell_type": "code",
   "execution_count": 42,
   "id": "67b606b1",
   "metadata": {},
   "outputs": [
    {
     "data": {
      "text/html": [
       "<style>#sk-container-id-1 {color: black;}#sk-container-id-1 pre{padding: 0;}#sk-container-id-1 div.sk-toggleable {background-color: white;}#sk-container-id-1 label.sk-toggleable__label {cursor: pointer;display: block;width: 100%;margin-bottom: 0;padding: 0.3em;box-sizing: border-box;text-align: center;}#sk-container-id-1 label.sk-toggleable__label-arrow:before {content: \"▸\";float: left;margin-right: 0.25em;color: #696969;}#sk-container-id-1 label.sk-toggleable__label-arrow:hover:before {color: black;}#sk-container-id-1 div.sk-estimator:hover label.sk-toggleable__label-arrow:before {color: black;}#sk-container-id-1 div.sk-toggleable__content {max-height: 0;max-width: 0;overflow: hidden;text-align: left;background-color: #f0f8ff;}#sk-container-id-1 div.sk-toggleable__content pre {margin: 0.2em;color: black;border-radius: 0.25em;background-color: #f0f8ff;}#sk-container-id-1 input.sk-toggleable__control:checked~div.sk-toggleable__content {max-height: 200px;max-width: 100%;overflow: auto;}#sk-container-id-1 input.sk-toggleable__control:checked~label.sk-toggleable__label-arrow:before {content: \"▾\";}#sk-container-id-1 div.sk-estimator input.sk-toggleable__control:checked~label.sk-toggleable__label {background-color: #d4ebff;}#sk-container-id-1 div.sk-label input.sk-toggleable__control:checked~label.sk-toggleable__label {background-color: #d4ebff;}#sk-container-id-1 input.sk-hidden--visually {border: 0;clip: rect(1px 1px 1px 1px);clip: rect(1px, 1px, 1px, 1px);height: 1px;margin: -1px;overflow: hidden;padding: 0;position: absolute;width: 1px;}#sk-container-id-1 div.sk-estimator {font-family: monospace;background-color: #f0f8ff;border: 1px dotted black;border-radius: 0.25em;box-sizing: border-box;margin-bottom: 0.5em;}#sk-container-id-1 div.sk-estimator:hover {background-color: #d4ebff;}#sk-container-id-1 div.sk-parallel-item::after {content: \"\";width: 100%;border-bottom: 1px solid gray;flex-grow: 1;}#sk-container-id-1 div.sk-label:hover label.sk-toggleable__label {background-color: #d4ebff;}#sk-container-id-1 div.sk-serial::before {content: \"\";position: absolute;border-left: 1px solid gray;box-sizing: border-box;top: 0;bottom: 0;left: 50%;z-index: 0;}#sk-container-id-1 div.sk-serial {display: flex;flex-direction: column;align-items: center;background-color: white;padding-right: 0.2em;padding-left: 0.2em;position: relative;}#sk-container-id-1 div.sk-item {position: relative;z-index: 1;}#sk-container-id-1 div.sk-parallel {display: flex;align-items: stretch;justify-content: center;background-color: white;position: relative;}#sk-container-id-1 div.sk-item::before, #sk-container-id-1 div.sk-parallel-item::before {content: \"\";position: absolute;border-left: 1px solid gray;box-sizing: border-box;top: 0;bottom: 0;left: 50%;z-index: -1;}#sk-container-id-1 div.sk-parallel-item {display: flex;flex-direction: column;z-index: 1;position: relative;background-color: white;}#sk-container-id-1 div.sk-parallel-item:first-child::after {align-self: flex-end;width: 50%;}#sk-container-id-1 div.sk-parallel-item:last-child::after {align-self: flex-start;width: 50%;}#sk-container-id-1 div.sk-parallel-item:only-child::after {width: 0;}#sk-container-id-1 div.sk-dashed-wrapped {border: 1px dashed gray;margin: 0 0.4em 0.5em 0.4em;box-sizing: border-box;padding-bottom: 0.4em;background-color: white;}#sk-container-id-1 div.sk-label label {font-family: monospace;font-weight: bold;display: inline-block;line-height: 1.2em;}#sk-container-id-1 div.sk-label-container {text-align: center;}#sk-container-id-1 div.sk-container {/* jupyter's `normalize.less` sets `[hidden] { display: none; }` but bootstrap.min.css set `[hidden] { display: none !important; }` so we also need the `!important` here to be able to override the default hidden behavior on the sphinx rendered scikit-learn.org. See: https://github.com/scikit-learn/scikit-learn/issues/21755 */display: inline-block !important;position: relative;}#sk-container-id-1 div.sk-text-repr-fallback {display: none;}</style><div id=\"sk-container-id-1\" class=\"sk-top-container\"><div class=\"sk-text-repr-fallback\"><pre>ColumnTransformer(remainder=&#x27;passthrough&#x27;,\n",
       "                  transformers=[(&#x27;tf1&#x27;, SimpleImputer(), [&#x27;fever&#x27;]),\n",
       "                                (&#x27;tf2&#x27;,\n",
       "                                 OrdinalEncoder(categories=[[&#x27;Mild&#x27;,\n",
       "                                                             &#x27;Strong&#x27;]]),\n",
       "                                 [&#x27;cough&#x27;]),\n",
       "                                (&#x27;tf3&#x27;,\n",
       "                                 OneHotEncoder(drop=&#x27;first&#x27;,\n",
       "                                               sparse_output=False),\n",
       "                                 [&#x27;gender&#x27;, &#x27;city&#x27;])])</pre><b>In a Jupyter environment, please rerun this cell to show the HTML representation or trust the notebook. <br />On GitHub, the HTML representation is unable to render, please try loading this page with nbviewer.org.</b></div><div class=\"sk-container\" hidden><div class=\"sk-item sk-dashed-wrapped\"><div class=\"sk-label-container\"><div class=\"sk-label sk-toggleable\"><input class=\"sk-toggleable__control sk-hidden--visually\" id=\"sk-estimator-id-1\" type=\"checkbox\" ><label for=\"sk-estimator-id-1\" class=\"sk-toggleable__label sk-toggleable__label-arrow\">ColumnTransformer</label><div class=\"sk-toggleable__content\"><pre>ColumnTransformer(remainder=&#x27;passthrough&#x27;,\n",
       "                  transformers=[(&#x27;tf1&#x27;, SimpleImputer(), [&#x27;fever&#x27;]),\n",
       "                                (&#x27;tf2&#x27;,\n",
       "                                 OrdinalEncoder(categories=[[&#x27;Mild&#x27;,\n",
       "                                                             &#x27;Strong&#x27;]]),\n",
       "                                 [&#x27;cough&#x27;]),\n",
       "                                (&#x27;tf3&#x27;,\n",
       "                                 OneHotEncoder(drop=&#x27;first&#x27;,\n",
       "                                               sparse_output=False),\n",
       "                                 [&#x27;gender&#x27;, &#x27;city&#x27;])])</pre></div></div></div><div class=\"sk-parallel\"><div class=\"sk-parallel-item\"><div class=\"sk-item\"><div class=\"sk-label-container\"><div class=\"sk-label sk-toggleable\"><input class=\"sk-toggleable__control sk-hidden--visually\" id=\"sk-estimator-id-2\" type=\"checkbox\" ><label for=\"sk-estimator-id-2\" class=\"sk-toggleable__label sk-toggleable__label-arrow\">tf1</label><div class=\"sk-toggleable__content\"><pre>[&#x27;fever&#x27;]</pre></div></div></div><div class=\"sk-serial\"><div class=\"sk-item\"><div class=\"sk-estimator sk-toggleable\"><input class=\"sk-toggleable__control sk-hidden--visually\" id=\"sk-estimator-id-3\" type=\"checkbox\" ><label for=\"sk-estimator-id-3\" class=\"sk-toggleable__label sk-toggleable__label-arrow\">SimpleImputer</label><div class=\"sk-toggleable__content\"><pre>SimpleImputer()</pre></div></div></div></div></div></div><div class=\"sk-parallel-item\"><div class=\"sk-item\"><div class=\"sk-label-container\"><div class=\"sk-label sk-toggleable\"><input class=\"sk-toggleable__control sk-hidden--visually\" id=\"sk-estimator-id-4\" type=\"checkbox\" ><label for=\"sk-estimator-id-4\" class=\"sk-toggleable__label sk-toggleable__label-arrow\">tf2</label><div class=\"sk-toggleable__content\"><pre>[&#x27;cough&#x27;]</pre></div></div></div><div class=\"sk-serial\"><div class=\"sk-item\"><div class=\"sk-estimator sk-toggleable\"><input class=\"sk-toggleable__control sk-hidden--visually\" id=\"sk-estimator-id-5\" type=\"checkbox\" ><label for=\"sk-estimator-id-5\" class=\"sk-toggleable__label sk-toggleable__label-arrow\">OrdinalEncoder</label><div class=\"sk-toggleable__content\"><pre>OrdinalEncoder(categories=[[&#x27;Mild&#x27;, &#x27;Strong&#x27;]])</pre></div></div></div></div></div></div><div class=\"sk-parallel-item\"><div class=\"sk-item\"><div class=\"sk-label-container\"><div class=\"sk-label sk-toggleable\"><input class=\"sk-toggleable__control sk-hidden--visually\" id=\"sk-estimator-id-6\" type=\"checkbox\" ><label for=\"sk-estimator-id-6\" class=\"sk-toggleable__label sk-toggleable__label-arrow\">tf3</label><div class=\"sk-toggleable__content\"><pre>[&#x27;gender&#x27;, &#x27;city&#x27;]</pre></div></div></div><div class=\"sk-serial\"><div class=\"sk-item\"><div class=\"sk-estimator sk-toggleable\"><input class=\"sk-toggleable__control sk-hidden--visually\" id=\"sk-estimator-id-7\" type=\"checkbox\" ><label for=\"sk-estimator-id-7\" class=\"sk-toggleable__label sk-toggleable__label-arrow\">OneHotEncoder</label><div class=\"sk-toggleable__content\"><pre>OneHotEncoder(drop=&#x27;first&#x27;, sparse_output=False)</pre></div></div></div></div></div></div><div class=\"sk-parallel-item\"><div class=\"sk-item\"><div class=\"sk-label-container\"><div class=\"sk-label sk-toggleable\"><input class=\"sk-toggleable__control sk-hidden--visually\" id=\"sk-estimator-id-8\" type=\"checkbox\" ><label for=\"sk-estimator-id-8\" class=\"sk-toggleable__label sk-toggleable__label-arrow\">remainder</label><div class=\"sk-toggleable__content\"><pre></pre></div></div></div><div class=\"sk-serial\"><div class=\"sk-item\"><div class=\"sk-estimator sk-toggleable\"><input class=\"sk-toggleable__control sk-hidden--visually\" id=\"sk-estimator-id-9\" type=\"checkbox\" ><label for=\"sk-estimator-id-9\" class=\"sk-toggleable__label sk-toggleable__label-arrow\">passthrough</label><div class=\"sk-toggleable__content\"><pre>passthrough</pre></div></div></div></div></div></div></div></div></div></div>"
      ],
      "text/plain": [
       "ColumnTransformer(remainder='passthrough',\n",
       "                  transformers=[('tf1', SimpleImputer(), ['fever']),\n",
       "                                ('tf2',\n",
       "                                 OrdinalEncoder(categories=[['Mild',\n",
       "                                                             'Strong']]),\n",
       "                                 ['cough']),\n",
       "                                ('tf3',\n",
       "                                 OneHotEncoder(drop='first',\n",
       "                                               sparse_output=False),\n",
       "                                 ['gender', 'city'])])"
      ]
     },
     "execution_count": 42,
     "metadata": {},
     "output_type": "execute_result"
    }
   ],
   "source": [
    "transformer"
   ]
  },
  {
   "cell_type": "code",
   "execution_count": null,
   "id": "4b17b230",
   "metadata": {},
   "outputs": [],
   "source": []
  }
 ],
 "metadata": {
  "kernelspec": {
   "display_name": "Python 3 (ipykernel)",
   "language": "python",
   "name": "python3"
  },
  "language_info": {
   "codemirror_mode": {
    "name": "ipython",
    "version": 3
   },
   "file_extension": ".py",
   "mimetype": "text/x-python",
   "name": "python",
   "nbconvert_exporter": "python",
   "pygments_lexer": "ipython3",
   "version": "3.11.5"
  }
 },
 "nbformat": 4,
 "nbformat_minor": 5
}
