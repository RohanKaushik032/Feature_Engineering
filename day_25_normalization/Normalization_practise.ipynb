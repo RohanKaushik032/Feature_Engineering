{
 "cells": [
  {
   "cell_type": "code",
   "execution_count": 1,
   "id": "fff4b5a8",
   "metadata": {},
   "outputs": [],
   "source": [
    "import numpy as np \n",
    "import pandas as pd \n",
    "import matplotlib.pyplot as plt\n",
    "import seaborn as sns"
   ]
  },
  {
   "cell_type": "code",
   "execution_count": 2,
   "id": "eb4cf427",
   "metadata": {},
   "outputs": [],
   "source": [
    "df = pd.read_csv('wine_data.csv',header=None,usecols=[0,1,2])\n",
    "df.columns=['Class label', 'Alcohol', 'Malic acid']"
   ]
  },
  {
   "cell_type": "code",
   "execution_count": 3,
   "id": "6accb973",
   "metadata": {},
   "outputs": [
    {
     "data": {
      "text/html": [
       "<div>\n",
       "<style scoped>\n",
       "    .dataframe tbody tr th:only-of-type {\n",
       "        vertical-align: middle;\n",
       "    }\n",
       "\n",
       "    .dataframe tbody tr th {\n",
       "        vertical-align: top;\n",
       "    }\n",
       "\n",
       "    .dataframe thead th {\n",
       "        text-align: right;\n",
       "    }\n",
       "</style>\n",
       "<table border=\"1\" class=\"dataframe\">\n",
       "  <thead>\n",
       "    <tr style=\"text-align: right;\">\n",
       "      <th></th>\n",
       "      <th>Class label</th>\n",
       "      <th>Alcohol</th>\n",
       "      <th>Malic acid</th>\n",
       "    </tr>\n",
       "  </thead>\n",
       "  <tbody>\n",
       "    <tr>\n",
       "      <th>23</th>\n",
       "      <td>1</td>\n",
       "      <td>12.85</td>\n",
       "      <td>1.6</td>\n",
       "    </tr>\n",
       "  </tbody>\n",
       "</table>\n",
       "</div>"
      ],
      "text/plain": [
       "    Class label  Alcohol  Malic acid\n",
       "23            1    12.85         1.6"
      ]
     },
     "execution_count": 3,
     "metadata": {},
     "output_type": "execute_result"
    }
   ],
   "source": [
    "df.sample()"
   ]
  },
  {
   "cell_type": "code",
   "execution_count": 4,
   "id": "ce640887",
   "metadata": {},
   "outputs": [],
   "source": [
    "from sklearn.model_selection import train_test_split"
   ]
  },
  {
   "cell_type": "code",
   "execution_count": 5,
   "id": "ab59e7a8",
   "metadata": {},
   "outputs": [
    {
     "data": {
      "text/plain": [
       "(142, 2)"
      ]
     },
     "execution_count": 5,
     "metadata": {},
     "output_type": "execute_result"
    }
   ],
   "source": [
    "x_train,x_test,y_train,y_test = train_test_split(df.drop('Class label',axis = 1),\n",
    "                                                df['Class label'],\n",
    "                                                test_size = 0.2,\n",
    "                                                random_state = 2)\n",
    "x_train.shape"
   ]
  },
  {
   "cell_type": "code",
   "execution_count": 6,
   "id": "3794892e",
   "metadata": {},
   "outputs": [
    {
     "data": {
      "text/plain": [
       "(36, 2)"
      ]
     },
     "execution_count": 6,
     "metadata": {},
     "output_type": "execute_result"
    }
   ],
   "source": [
    "x_test.shape"
   ]
  },
  {
   "cell_type": "code",
   "execution_count": 7,
   "id": "37fb70f1",
   "metadata": {},
   "outputs": [],
   "source": [
    "from sklearn.linear_model import LinearRegression"
   ]
  },
  {
   "cell_type": "code",
   "execution_count": 9,
   "id": "f1206e11",
   "metadata": {},
   "outputs": [],
   "source": [
    "lr = LinearRegression()"
   ]
  },
  {
   "cell_type": "code",
   "execution_count": 10,
   "id": "c1a487df",
   "metadata": {},
   "outputs": [],
   "source": [
    "from sklearn.preprocessing import MinMaxScaler"
   ]
  },
  {
   "cell_type": "code",
   "execution_count": 12,
   "id": "f3332566",
   "metadata": {},
   "outputs": [],
   "source": [
    "scaled =  MinMaxScaler() "
   ]
  },
  {
   "cell_type": "code",
   "execution_count": 14,
   "id": "62f12b2b",
   "metadata": {},
   "outputs": [
    {
     "data": {
      "text/html": [
       "<style>#sk-container-id-1 {color: black;}#sk-container-id-1 pre{padding: 0;}#sk-container-id-1 div.sk-toggleable {background-color: white;}#sk-container-id-1 label.sk-toggleable__label {cursor: pointer;display: block;width: 100%;margin-bottom: 0;padding: 0.3em;box-sizing: border-box;text-align: center;}#sk-container-id-1 label.sk-toggleable__label-arrow:before {content: \"▸\";float: left;margin-right: 0.25em;color: #696969;}#sk-container-id-1 label.sk-toggleable__label-arrow:hover:before {color: black;}#sk-container-id-1 div.sk-estimator:hover label.sk-toggleable__label-arrow:before {color: black;}#sk-container-id-1 div.sk-toggleable__content {max-height: 0;max-width: 0;overflow: hidden;text-align: left;background-color: #f0f8ff;}#sk-container-id-1 div.sk-toggleable__content pre {margin: 0.2em;color: black;border-radius: 0.25em;background-color: #f0f8ff;}#sk-container-id-1 input.sk-toggleable__control:checked~div.sk-toggleable__content {max-height: 200px;max-width: 100%;overflow: auto;}#sk-container-id-1 input.sk-toggleable__control:checked~label.sk-toggleable__label-arrow:before {content: \"▾\";}#sk-container-id-1 div.sk-estimator input.sk-toggleable__control:checked~label.sk-toggleable__label {background-color: #d4ebff;}#sk-container-id-1 div.sk-label input.sk-toggleable__control:checked~label.sk-toggleable__label {background-color: #d4ebff;}#sk-container-id-1 input.sk-hidden--visually {border: 0;clip: rect(1px 1px 1px 1px);clip: rect(1px, 1px, 1px, 1px);height: 1px;margin: -1px;overflow: hidden;padding: 0;position: absolute;width: 1px;}#sk-container-id-1 div.sk-estimator {font-family: monospace;background-color: #f0f8ff;border: 1px dotted black;border-radius: 0.25em;box-sizing: border-box;margin-bottom: 0.5em;}#sk-container-id-1 div.sk-estimator:hover {background-color: #d4ebff;}#sk-container-id-1 div.sk-parallel-item::after {content: \"\";width: 100%;border-bottom: 1px solid gray;flex-grow: 1;}#sk-container-id-1 div.sk-label:hover label.sk-toggleable__label {background-color: #d4ebff;}#sk-container-id-1 div.sk-serial::before {content: \"\";position: absolute;border-left: 1px solid gray;box-sizing: border-box;top: 0;bottom: 0;left: 50%;z-index: 0;}#sk-container-id-1 div.sk-serial {display: flex;flex-direction: column;align-items: center;background-color: white;padding-right: 0.2em;padding-left: 0.2em;position: relative;}#sk-container-id-1 div.sk-item {position: relative;z-index: 1;}#sk-container-id-1 div.sk-parallel {display: flex;align-items: stretch;justify-content: center;background-color: white;position: relative;}#sk-container-id-1 div.sk-item::before, #sk-container-id-1 div.sk-parallel-item::before {content: \"\";position: absolute;border-left: 1px solid gray;box-sizing: border-box;top: 0;bottom: 0;left: 50%;z-index: -1;}#sk-container-id-1 div.sk-parallel-item {display: flex;flex-direction: column;z-index: 1;position: relative;background-color: white;}#sk-container-id-1 div.sk-parallel-item:first-child::after {align-self: flex-end;width: 50%;}#sk-container-id-1 div.sk-parallel-item:last-child::after {align-self: flex-start;width: 50%;}#sk-container-id-1 div.sk-parallel-item:only-child::after {width: 0;}#sk-container-id-1 div.sk-dashed-wrapped {border: 1px dashed gray;margin: 0 0.4em 0.5em 0.4em;box-sizing: border-box;padding-bottom: 0.4em;background-color: white;}#sk-container-id-1 div.sk-label label {font-family: monospace;font-weight: bold;display: inline-block;line-height: 1.2em;}#sk-container-id-1 div.sk-label-container {text-align: center;}#sk-container-id-1 div.sk-container {/* jupyter's `normalize.less` sets `[hidden] { display: none; }` but bootstrap.min.css set `[hidden] { display: none !important; }` so we also need the `!important` here to be able to override the default hidden behavior on the sphinx rendered scikit-learn.org. See: https://github.com/scikit-learn/scikit-learn/issues/21755 */display: inline-block !important;position: relative;}#sk-container-id-1 div.sk-text-repr-fallback {display: none;}</style><div id=\"sk-container-id-1\" class=\"sk-top-container\"><div class=\"sk-text-repr-fallback\"><pre>MinMaxScaler()</pre><b>In a Jupyter environment, please rerun this cell to show the HTML representation or trust the notebook. <br />On GitHub, the HTML representation is unable to render, please try loading this page with nbviewer.org.</b></div><div class=\"sk-container\" hidden><div class=\"sk-item\"><div class=\"sk-estimator sk-toggleable\"><input class=\"sk-toggleable__control sk-hidden--visually\" id=\"sk-estimator-id-1\" type=\"checkbox\" checked><label for=\"sk-estimator-id-1\" class=\"sk-toggleable__label sk-toggleable__label-arrow\">MinMaxScaler</label><div class=\"sk-toggleable__content\"><pre>MinMaxScaler()</pre></div></div></div></div></div>"
      ],
      "text/plain": [
       "MinMaxScaler()"
      ]
     },
     "execution_count": 14,
     "metadata": {},
     "output_type": "execute_result"
    }
   ],
   "source": [
    "scaled.fit(x_train,y_train)"
   ]
  },
  {
   "cell_type": "code",
   "execution_count": 15,
   "id": "1295fd7e",
   "metadata": {},
   "outputs": [],
   "source": [
    "X_train_scaled = scaled.transform(x_train)\n",
    "X_test_scaled = scaled.transform(x_test)"
   ]
  },
  {
   "cell_type": "code",
   "execution_count": 17,
   "id": "39c2acbd",
   "metadata": {},
   "outputs": [
    {
     "data": {
      "text/plain": [
       "array([[0.40789474, 0.0814664 ],\n",
       "       [0.11052632, 0.30753564],\n",
       "       [0.27631579, 0.08961303],\n",
       "       [0.43684211, 0.13034623],\n",
       "       [0.73947368, 0.65784114],\n",
       "       [0.32105263, 0.6089613 ],\n",
       "       [0.43947368, 0.60692464],\n",
       "       [0.88157895, 0.19959267],\n",
       "       [0.50789474, 0.52138493],\n",
       "       [0.25526316, 0.51731161],\n",
       "       [0.26578947, 0.69450102],\n",
       "       [0.53157895, 0.17922607],\n",
       "       [0.65      , 0.45417515],\n",
       "       [0.54736842, 0.02443992],\n",
       "       [0.53157895, 1.        ],\n",
       "       [0.2       , 0.25254582],\n",
       "       [0.15263158, 0.09368635],\n",
       "       [0.43157895, 0.01832994],\n",
       "       [0.33157895, 0.46435845],\n",
       "       [0.48684211, 0.42769857],\n",
       "       [0.64473684, 0.15885947],\n",
       "       [0.59473684, 0.21995927],\n",
       "       [0.74473684, 0.12627291],\n",
       "       [0.30789474, 0.43584521],\n",
       "       [0.45789474, 0.51731161],\n",
       "       [0.61315789, 0.3401222 ],\n",
       "       [0.48421053, 0.75763747],\n",
       "       [0.81315789, 0.12016293],\n",
       "       [0.47105263, 0.50509165],\n",
       "       [0.59210526, 0.15274949],\n",
       "       [0.54736842, 0.20570265],\n",
       "       [0.        , 0.12627291],\n",
       "       [0.69473684, 0.07331976],\n",
       "       [0.84210526, 0.16700611],\n",
       "       [0.59736842, 0.16904277],\n",
       "       [0.64736842, 0.54989817],\n",
       "       [0.39210526, 0.31364562],\n",
       "       [0.35263158, 0.03665988],\n",
       "       [0.79736842, 0.15071283],\n",
       "       [0.47631579, 0.42158859],\n",
       "       [0.39473684, 0.94093686],\n",
       "       [0.36842105, 0.13034623],\n",
       "       [0.21315789, 0.40733198],\n",
       "       [0.71052632, 0.12423625],\n",
       "       [0.41315789, 0.3197556 ],\n",
       "       [0.73684211, 0.13849287],\n",
       "       [0.35263158, 0.0101833 ],\n",
       "       [0.35      , 0.598778  ],\n",
       "       [0.75      , 0.84521385],\n",
       "       [0.5       , 0.3910387 ],\n",
       "       [0.31315789, 0.0814664 ],\n",
       "       [0.68157895, 0.82688391],\n",
       "       [0.56315789, 0.87576375],\n",
       "       [0.5       , 0.59266802],\n",
       "       [0.66578947, 0.17107943],\n",
       "       [0.86052632, 0.20977597],\n",
       "       [0.25526316, 0.12627291],\n",
       "       [0.27631579, 0.24236253],\n",
       "       [0.58947368, 0.6904277 ],\n",
       "       [0.24473684, 0.0407332 ],\n",
       "       [0.65526316, 0.46435845],\n",
       "       [0.35263158, 0.15071283],\n",
       "       [0.62368421, 0.61507128],\n",
       "       [0.16315789, 0.15885947],\n",
       "       [0.27631579, 0.19144603],\n",
       "       [0.21315789, 0.        ],\n",
       "       [0.83157895, 0.14256619],\n",
       "       [0.33157895, 0.10590631],\n",
       "       [0.38947368, 0.0712831 ],\n",
       "       [0.27368421, 0.2586558 ],\n",
       "       [0.42368421, 0.09572301],\n",
       "       [0.44473684, 0.18737271],\n",
       "       [0.56052632, 0.54582485],\n",
       "       [0.60789474, 0.0101833 ],\n",
       "       [0.57105263, 0.18126273],\n",
       "       [0.27631579, 0.04887984],\n",
       "       [0.83947368, 0.16496945],\n",
       "       [0.68684211, 0.45010183],\n",
       "       [0.7       , 0.48268839],\n",
       "       [0.29736842, 0.14663951],\n",
       "       [0.33157895, 0.14663951],\n",
       "       [0.41315789, 0.09164969],\n",
       "       [0.74473684, 0.09368635],\n",
       "       [0.34210526, 0.04276986],\n",
       "       [0.65263158, 0.18533605],\n",
       "       [0.66578947, 0.16700611],\n",
       "       [0.80789474, 0.2586558 ],\n",
       "       [0.52631579, 0.00203666],\n",
       "       [1.        , 0.15274949],\n",
       "       [0.27631579, 0.10183299],\n",
       "       [0.62105263, 0.17922607],\n",
       "       [0.69736842, 0.19144603],\n",
       "       [0.70526316, 0.9694501 ],\n",
       "       [0.20526316, 0.25050916],\n",
       "       [0.53157895, 0.60488798],\n",
       "       [0.11315789, 0.58044807],\n",
       "       [0.36578947, 0.33808554],\n",
       "       [0.51578947, 0.15885947],\n",
       "       [0.36578947, 0.14663951],\n",
       "       [0.56315789, 0.34623218],\n",
       "       [0.32105263, 0.78004073],\n",
       "       [0.83947368, 0.63136456],\n",
       "       [0.76578947, 0.17107943],\n",
       "       [0.71052632, 0.70672098],\n",
       "       [0.46842105, 0.2892057 ],\n",
       "       [0.53157895, 0.17107943],\n",
       "       [0.73421053, 0.17515275],\n",
       "       [0.25526316, 0.00610998],\n",
       "       [0.72368421, 0.3808554 ],\n",
       "       [0.13947368, 0.23625255],\n",
       "       [0.81578947, 0.65376782],\n",
       "       [0.88157895, 0.54989817],\n",
       "       [0.16052632, 0.23828921],\n",
       "       [0.31052632, 0.0610998 ],\n",
       "       [0.35263158, 0.05702648],\n",
       "       [0.62368421, 0.75560081],\n",
       "       [0.70789474, 0.10997963],\n",
       "       [0.71842105, 0.13034623],\n",
       "       [0.53684211, 0.12423625],\n",
       "       [0.20789474, 0.16904277],\n",
       "       [0.73684211, 0.15478615],\n",
       "       [0.44473684, 0.17515275],\n",
       "       [0.58157895, 0.34623218],\n",
       "       [0.34473684, 0.31771894],\n",
       "       [0.53157895, 0.15478615],\n",
       "       [0.20789474, 0.11812627],\n",
       "       [0.22105263, 0.69653768],\n",
       "       [0.60263158, 0.47861507],\n",
       "       [0.67105263, 0.15682281],\n",
       "       [0.35263158, 0.04887984],\n",
       "       [0.75526316, 0.16089613],\n",
       "       [0.82368421, 0.3299389 ],\n",
       "       [0.37894737, 0.12830957],\n",
       "       [0.47894737, 0.48472505],\n",
       "       [0.79736842, 0.25661914],\n",
       "       [0.38947368, 0.17107943],\n",
       "       [0.16578947, 0.20162933],\n",
       "       [0.58157895, 0.6293279 ],\n",
       "       [0.70526316, 0.19755601],\n",
       "       [0.64736842, 0.15682281],\n",
       "       [0.68421053, 0.18737271],\n",
       "       [0.67105263, 0.34419552]])"
      ]
     },
     "execution_count": 17,
     "metadata": {},
     "output_type": "execute_result"
    }
   ],
   "source": [
    "X_train_scaled"
   ]
  },
  {
   "cell_type": "code",
   "execution_count": 18,
   "id": "13413f1d",
   "metadata": {},
   "outputs": [],
   "source": [
    "X_train_scaled = pd.DataFrame(X_train_scaled,columns = x_train.columns)"
   ]
  },
  {
   "cell_type": "code",
   "execution_count": 19,
   "id": "49bd0de6",
   "metadata": {},
   "outputs": [],
   "source": [
    "X_test_scaled = pd.DataFrame(X_test_scaled,columns = x_test.columns)"
   ]
  },
  {
   "cell_type": "code",
   "execution_count": 20,
   "id": "5f2ff1c6",
   "metadata": {},
   "outputs": [
    {
     "data": {
      "text/html": [
       "<div>\n",
       "<style scoped>\n",
       "    .dataframe tbody tr th:only-of-type {\n",
       "        vertical-align: middle;\n",
       "    }\n",
       "\n",
       "    .dataframe tbody tr th {\n",
       "        vertical-align: top;\n",
       "    }\n",
       "\n",
       "    .dataframe thead th {\n",
       "        text-align: right;\n",
       "    }\n",
       "</style>\n",
       "<table border=\"1\" class=\"dataframe\">\n",
       "  <thead>\n",
       "    <tr style=\"text-align: right;\">\n",
       "      <th></th>\n",
       "      <th>Alcohol</th>\n",
       "      <th>Malic acid</th>\n",
       "    </tr>\n",
       "  </thead>\n",
       "  <tbody>\n",
       "    <tr>\n",
       "      <th>0</th>\n",
       "      <td>0.407895</td>\n",
       "      <td>0.081466</td>\n",
       "    </tr>\n",
       "    <tr>\n",
       "      <th>1</th>\n",
       "      <td>0.110526</td>\n",
       "      <td>0.307536</td>\n",
       "    </tr>\n",
       "    <tr>\n",
       "      <th>2</th>\n",
       "      <td>0.276316</td>\n",
       "      <td>0.089613</td>\n",
       "    </tr>\n",
       "    <tr>\n",
       "      <th>3</th>\n",
       "      <td>0.436842</td>\n",
       "      <td>0.130346</td>\n",
       "    </tr>\n",
       "    <tr>\n",
       "      <th>4</th>\n",
       "      <td>0.739474</td>\n",
       "      <td>0.657841</td>\n",
       "    </tr>\n",
       "    <tr>\n",
       "      <th>...</th>\n",
       "      <td>...</td>\n",
       "      <td>...</td>\n",
       "    </tr>\n",
       "    <tr>\n",
       "      <th>137</th>\n",
       "      <td>0.581579</td>\n",
       "      <td>0.629328</td>\n",
       "    </tr>\n",
       "    <tr>\n",
       "      <th>138</th>\n",
       "      <td>0.705263</td>\n",
       "      <td>0.197556</td>\n",
       "    </tr>\n",
       "    <tr>\n",
       "      <th>139</th>\n",
       "      <td>0.647368</td>\n",
       "      <td>0.156823</td>\n",
       "    </tr>\n",
       "    <tr>\n",
       "      <th>140</th>\n",
       "      <td>0.684211</td>\n",
       "      <td>0.187373</td>\n",
       "    </tr>\n",
       "    <tr>\n",
       "      <th>141</th>\n",
       "      <td>0.671053</td>\n",
       "      <td>0.344196</td>\n",
       "    </tr>\n",
       "  </tbody>\n",
       "</table>\n",
       "<p>142 rows × 2 columns</p>\n",
       "</div>"
      ],
      "text/plain": [
       "      Alcohol  Malic acid\n",
       "0    0.407895    0.081466\n",
       "1    0.110526    0.307536\n",
       "2    0.276316    0.089613\n",
       "3    0.436842    0.130346\n",
       "4    0.739474    0.657841\n",
       "..        ...         ...\n",
       "137  0.581579    0.629328\n",
       "138  0.705263    0.197556\n",
       "139  0.647368    0.156823\n",
       "140  0.684211    0.187373\n",
       "141  0.671053    0.344196\n",
       "\n",
       "[142 rows x 2 columns]"
      ]
     },
     "execution_count": 20,
     "metadata": {},
     "output_type": "execute_result"
    }
   ],
   "source": [
    "X_train_scaled"
   ]
  },
  {
   "cell_type": "code",
   "execution_count": 21,
   "id": "a714c2a7",
   "metadata": {},
   "outputs": [
    {
     "data": {
      "text/html": [
       "<style>#sk-container-id-2 {color: black;}#sk-container-id-2 pre{padding: 0;}#sk-container-id-2 div.sk-toggleable {background-color: white;}#sk-container-id-2 label.sk-toggleable__label {cursor: pointer;display: block;width: 100%;margin-bottom: 0;padding: 0.3em;box-sizing: border-box;text-align: center;}#sk-container-id-2 label.sk-toggleable__label-arrow:before {content: \"▸\";float: left;margin-right: 0.25em;color: #696969;}#sk-container-id-2 label.sk-toggleable__label-arrow:hover:before {color: black;}#sk-container-id-2 div.sk-estimator:hover label.sk-toggleable__label-arrow:before {color: black;}#sk-container-id-2 div.sk-toggleable__content {max-height: 0;max-width: 0;overflow: hidden;text-align: left;background-color: #f0f8ff;}#sk-container-id-2 div.sk-toggleable__content pre {margin: 0.2em;color: black;border-radius: 0.25em;background-color: #f0f8ff;}#sk-container-id-2 input.sk-toggleable__control:checked~div.sk-toggleable__content {max-height: 200px;max-width: 100%;overflow: auto;}#sk-container-id-2 input.sk-toggleable__control:checked~label.sk-toggleable__label-arrow:before {content: \"▾\";}#sk-container-id-2 div.sk-estimator input.sk-toggleable__control:checked~label.sk-toggleable__label {background-color: #d4ebff;}#sk-container-id-2 div.sk-label input.sk-toggleable__control:checked~label.sk-toggleable__label {background-color: #d4ebff;}#sk-container-id-2 input.sk-hidden--visually {border: 0;clip: rect(1px 1px 1px 1px);clip: rect(1px, 1px, 1px, 1px);height: 1px;margin: -1px;overflow: hidden;padding: 0;position: absolute;width: 1px;}#sk-container-id-2 div.sk-estimator {font-family: monospace;background-color: #f0f8ff;border: 1px dotted black;border-radius: 0.25em;box-sizing: border-box;margin-bottom: 0.5em;}#sk-container-id-2 div.sk-estimator:hover {background-color: #d4ebff;}#sk-container-id-2 div.sk-parallel-item::after {content: \"\";width: 100%;border-bottom: 1px solid gray;flex-grow: 1;}#sk-container-id-2 div.sk-label:hover label.sk-toggleable__label {background-color: #d4ebff;}#sk-container-id-2 div.sk-serial::before {content: \"\";position: absolute;border-left: 1px solid gray;box-sizing: border-box;top: 0;bottom: 0;left: 50%;z-index: 0;}#sk-container-id-2 div.sk-serial {display: flex;flex-direction: column;align-items: center;background-color: white;padding-right: 0.2em;padding-left: 0.2em;position: relative;}#sk-container-id-2 div.sk-item {position: relative;z-index: 1;}#sk-container-id-2 div.sk-parallel {display: flex;align-items: stretch;justify-content: center;background-color: white;position: relative;}#sk-container-id-2 div.sk-item::before, #sk-container-id-2 div.sk-parallel-item::before {content: \"\";position: absolute;border-left: 1px solid gray;box-sizing: border-box;top: 0;bottom: 0;left: 50%;z-index: -1;}#sk-container-id-2 div.sk-parallel-item {display: flex;flex-direction: column;z-index: 1;position: relative;background-color: white;}#sk-container-id-2 div.sk-parallel-item:first-child::after {align-self: flex-end;width: 50%;}#sk-container-id-2 div.sk-parallel-item:last-child::after {align-self: flex-start;width: 50%;}#sk-container-id-2 div.sk-parallel-item:only-child::after {width: 0;}#sk-container-id-2 div.sk-dashed-wrapped {border: 1px dashed gray;margin: 0 0.4em 0.5em 0.4em;box-sizing: border-box;padding-bottom: 0.4em;background-color: white;}#sk-container-id-2 div.sk-label label {font-family: monospace;font-weight: bold;display: inline-block;line-height: 1.2em;}#sk-container-id-2 div.sk-label-container {text-align: center;}#sk-container-id-2 div.sk-container {/* jupyter's `normalize.less` sets `[hidden] { display: none; }` but bootstrap.min.css set `[hidden] { display: none !important; }` so we also need the `!important` here to be able to override the default hidden behavior on the sphinx rendered scikit-learn.org. See: https://github.com/scikit-learn/scikit-learn/issues/21755 */display: inline-block !important;position: relative;}#sk-container-id-2 div.sk-text-repr-fallback {display: none;}</style><div id=\"sk-container-id-2\" class=\"sk-top-container\"><div class=\"sk-text-repr-fallback\"><pre>LinearRegression()</pre><b>In a Jupyter environment, please rerun this cell to show the HTML representation or trust the notebook. <br />On GitHub, the HTML representation is unable to render, please try loading this page with nbviewer.org.</b></div><div class=\"sk-container\" hidden><div class=\"sk-item\"><div class=\"sk-estimator sk-toggleable\"><input class=\"sk-toggleable__control sk-hidden--visually\" id=\"sk-estimator-id-2\" type=\"checkbox\" checked><label for=\"sk-estimator-id-2\" class=\"sk-toggleable__label sk-toggleable__label-arrow\">LinearRegression</label><div class=\"sk-toggleable__content\"><pre>LinearRegression()</pre></div></div></div></div></div>"
      ],
      "text/plain": [
       "LinearRegression()"
      ]
     },
     "execution_count": 21,
     "metadata": {},
     "output_type": "execute_result"
    }
   ],
   "source": [
    "lr.fit(X_train_scaled,y_train)"
   ]
  },
  {
   "cell_type": "code",
   "execution_count": 23,
   "id": "faf77fc8",
   "metadata": {},
   "outputs": [],
   "source": [
    "y_pred = lr.predict(X_test_scaled)"
   ]
  },
  {
   "cell_type": "code",
   "execution_count": 24,
   "id": "76a5009b",
   "metadata": {},
   "outputs": [
    {
     "data": {
      "text/plain": [
       "array([1.52753268, 1.76851216, 2.27278556, 1.85403793, 1.63912763,\n",
       "       1.21207326, 1.79113071, 2.05465546, 2.46904528, 1.5128977 ,\n",
       "       1.73109157, 1.40460536, 1.37187526, 1.32489855, 2.45555783,\n",
       "       2.83879961, 1.53936478, 1.92171844, 1.42584556, 2.3669698 ,\n",
       "       1.6827922 , 2.1453253 , 2.00072179, 2.2853292 , 1.39548378,\n",
       "       1.57736793, 2.35139101, 2.33164054, 1.51087158, 1.63281844,\n",
       "       2.4598409 , 1.93348534, 2.14081947, 2.21008205, 1.54582199,\n",
       "       1.93874886])"
      ]
     },
     "execution_count": 24,
     "metadata": {},
     "output_type": "execute_result"
    }
   ],
   "source": [
    "y_pred"
   ]
  },
  {
   "cell_type": "code",
   "execution_count": 27,
   "id": "c97937de",
   "metadata": {},
   "outputs": [
    {
     "name": "stdout",
     "output_type": "stream",
     "text": [
      "r2_score 0.27111184038266767\n"
     ]
    }
   ],
   "source": [
    "from sklearn.metrics import r2_score\n",
    "print(\"r2_score\",r2_score(y_test,y_pred))"
   ]
  },
  {
   "cell_type": "code",
   "execution_count": null,
   "id": "2ab383ff",
   "metadata": {},
   "outputs": [],
   "source": []
  }
 ],
 "metadata": {
  "kernelspec": {
   "display_name": "Python 3 (ipykernel)",
   "language": "python",
   "name": "python3"
  },
  "language_info": {
   "codemirror_mode": {
    "name": "ipython",
    "version": 3
   },
   "file_extension": ".py",
   "mimetype": "text/x-python",
   "name": "python",
   "nbconvert_exporter": "python",
   "pygments_lexer": "ipython3",
   "version": "3.11.5"
  }
 },
 "nbformat": 4,
 "nbformat_minor": 5
}
